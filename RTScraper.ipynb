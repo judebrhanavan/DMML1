{
 "cells": [
  {
   "cell_type": "raw",
   "metadata": {},
   "source": [
    "Some parts of this script is adapted from the following 2 stackoverflow threads:\n",
    "https://stackoverflow.com/questions/56591288/how-do-i-web-scrape-this-dynamic-page\n",
    "https://stackoverflow.com/questions/62386747/how-to-scrape-rottentomatoes-audience-reviews-using-python"
   ]
  },
  {
   "cell_type": "code",
   "execution_count": 3,
   "metadata": {},
   "outputs": [],
   "source": [
    "from bs4 import BeautifulSoup\n",
    "import requests\n",
    "import pandas as pd\n",
    "import numpy as np\n",
    "import re\n",
    "import json\n",
    "import csv"
   ]
  },
  {
   "cell_type": "code",
   "execution_count": 53,
   "metadata": {},
   "outputs": [],
   "source": [
    "# list to save movie url \n",
    "movie_urls=[]"
   ]
  },
  {
   "cell_type": "code",
   "execution_count": 54,
   "metadata": {},
   "outputs": [],
   "source": [
    "# list of URLS that each contain about 50 movies from 2017-2019\n",
    "url_list = ['https://editorial.rottentomatoes.com/guide/summer-movie-scorecard-2019/', \n",
    "            'https://editorial.rottentomatoes.com/guide/summer-movie-scorecard-2018/',\n",
    "            'https://editorial.rottentomatoes.com/guide/summer-movie-scorecard-2017/'\n",
    "           ]"
   ]
  },
  {
   "cell_type": "code",
   "execution_count": 55,
   "metadata": {},
   "outputs": [],
   "source": [
    "# find and save list of movie urls in each page using BeautifulSoup\n",
    "for url in url_list:\n",
    "    page = requests.get(url)\n",
    "    soup = BeautifulSoup(page.text, 'html.parser')\n",
    "    for link in soup.findAll('a', {'class': 'article_movie_poster'}):\n",
    "        try :\n",
    "            movie_link = link['href']\n",
    "            movie_urls.append(movie_link)\n",
    "            # print (link['href'])\n",
    "        except Exception as err:\n",
    "            print(err)"
   ]
  },
  {
   "cell_type": "code",
   "execution_count": 57,
   "metadata": {},
   "outputs": [
    {
     "data": {
      "text/plain": [
       "142"
      ]
     },
     "execution_count": 57,
     "metadata": {},
     "output_type": "execute_result"
    }
   ],
   "source": [
    "# print the length of movie URLS. total of 142\n",
    "len(movie_urls)"
   ]
  },
  {
   "cell_type": "code",
   "execution_count": 72,
   "metadata": {},
   "outputs": [
    {
     "data": {
      "text/plain": [
       "['https://www.rottentomatoes.com/m/the_hustle_2019/',\n",
       " 'https://www.rottentomatoes.com/m/the_kitchen/',\n",
       " 'https://www.rottentomatoes.com/m/men_in_black_international/',\n",
       " 'https://www.rottentomatoes.com/m/dark_phoenix/',\n",
       " 'https://www.rottentomatoes.com/m/uglydolls/']"
      ]
     },
     "execution_count": 72,
     "metadata": {},
     "output_type": "execute_result"
    }
   ],
   "source": [
    "#examine the URLS\n",
    "movie_urls[:5]"
   ]
  },
  {
   "cell_type": "code",
   "execution_count": 66,
   "metadata": {},
   "outputs": [],
   "source": [
    "#to use the RottenTomatoes API we need a movie-id , this code extracts and save this movieID for each movie in the list (as a list of tuples)\n",
    "movieID_list =[]\n",
    "# get movieids\n",
    "for movie in movie_urls:\n",
    "    review_url = movie +'reviews?type=user'\n",
    "    request = requests.get(review_url)\n",
    "    data = json.loads(re.search('movieReview\\s=\\s(.*);', request.text).group(1))\n",
    "    movieId = data[\"movieId\"]\n",
    "    movieID_list.append((movie, movieId))"
   ]
  },
  {
   "cell_type": "code",
   "execution_count": 75,
   "metadata": {},
   "outputs": [
    {
     "data": {
      "text/plain": [
       "[('https://www.rottentomatoes.com/m/the_hustle_2019/',\n",
       "  'b71aaf1e-eaf4-3c45-a9fb-369a0f916108'),\n",
       " ('https://www.rottentomatoes.com/m/the_kitchen/',\n",
       "  '83e3861c-8a25-3f03-ab9a-1e8f0994775e'),\n",
       " ('https://www.rottentomatoes.com/m/men_in_black_international/',\n",
       "  'e3d56bd8-a285-31dd-8306-fd8e331d05b7'),\n",
       " ('https://www.rottentomatoes.com/m/dark_phoenix/',\n",
       "  '1e586d32-284c-356d-ba6f-e5184693d838'),\n",
       " ('https://www.rottentomatoes.com/m/uglydolls/',\n",
       "  '296a363c-5b4e-30c1-a290-6c13a2062429')]"
      ]
     },
     "execution_count": 75,
     "metadata": {},
     "output_type": "execute_result"
    }
   ],
   "source": [
    "#print the first 5\n",
    "movieID_list[:5]"
   ]
  },
  {
   "cell_type": "code",
   "execution_count": 71,
   "metadata": {},
   "outputs": [
    {
     "data": {
      "text/html": [
       "<div>\n",
       "<style scoped>\n",
       "    .dataframe tbody tr th:only-of-type {\n",
       "        vertical-align: middle;\n",
       "    }\n",
       "\n",
       "    .dataframe tbody tr th {\n",
       "        vertical-align: top;\n",
       "    }\n",
       "\n",
       "    .dataframe thead th {\n",
       "        text-align: right;\n",
       "    }\n",
       "</style>\n",
       "<table border=\"1\" class=\"dataframe\">\n",
       "  <thead>\n",
       "    <tr style=\"text-align: right;\">\n",
       "      <th></th>\n",
       "      <th>URL</th>\n",
       "      <th>MovieID</th>\n",
       "    </tr>\n",
       "  </thead>\n",
       "  <tbody>\n",
       "    <tr>\n",
       "      <td>0</td>\n",
       "      <td>https://www.rottentomatoes.com/m/the_hustle_2019/</td>\n",
       "      <td>b71aaf1e-eaf4-3c45-a9fb-369a0f916108</td>\n",
       "    </tr>\n",
       "    <tr>\n",
       "      <td>1</td>\n",
       "      <td>https://www.rottentomatoes.com/m/the_kitchen/</td>\n",
       "      <td>83e3861c-8a25-3f03-ab9a-1e8f0994775e</td>\n",
       "    </tr>\n",
       "    <tr>\n",
       "      <td>2</td>\n",
       "      <td>https://www.rottentomatoes.com/m/men_in_black_...</td>\n",
       "      <td>e3d56bd8-a285-31dd-8306-fd8e331d05b7</td>\n",
       "    </tr>\n",
       "    <tr>\n",
       "      <td>3</td>\n",
       "      <td>https://www.rottentomatoes.com/m/dark_phoenix/</td>\n",
       "      <td>1e586d32-284c-356d-ba6f-e5184693d838</td>\n",
       "    </tr>\n",
       "    <tr>\n",
       "      <td>4</td>\n",
       "      <td>https://www.rottentomatoes.com/m/uglydolls/</td>\n",
       "      <td>296a363c-5b4e-30c1-a290-6c13a2062429</td>\n",
       "    </tr>\n",
       "  </tbody>\n",
       "</table>\n",
       "</div>"
      ],
      "text/plain": [
       "                                                 URL  \\\n",
       "0  https://www.rottentomatoes.com/m/the_hustle_2019/   \n",
       "1      https://www.rottentomatoes.com/m/the_kitchen/   \n",
       "2  https://www.rottentomatoes.com/m/men_in_black_...   \n",
       "3     https://www.rottentomatoes.com/m/dark_phoenix/   \n",
       "4        https://www.rottentomatoes.com/m/uglydolls/   \n",
       "\n",
       "                                MovieID  \n",
       "0  b71aaf1e-eaf4-3c45-a9fb-369a0f916108  \n",
       "1  83e3861c-8a25-3f03-ab9a-1e8f0994775e  \n",
       "2  e3d56bd8-a285-31dd-8306-fd8e331d05b7  \n",
       "3  1e586d32-284c-356d-ba6f-e5184693d838  \n",
       "4  296a363c-5b4e-30c1-a290-6c13a2062429  "
      ]
     },
     "execution_count": 71,
     "metadata": {},
     "output_type": "execute_result"
    }
   ],
   "source": [
    "#create a df consisting of URLS and movieID\n",
    "df_movieid = pd.DataFrame(movieID_list, columns=['URL', 'MovieID'])\n",
    "df_movieid.head()"
   ]
  },
  {
   "cell_type": "code",
   "execution_count": 73,
   "metadata": {},
   "outputs": [],
   "source": [
    "#save this to a csv file so we wouldnt have to scrape everytime\n",
    "df_movieid.to_csv('movieids.csv')"
   ]
  },
  {
   "cell_type": "code",
   "execution_count": 17,
   "metadata": {},
   "outputs": [
    {
     "data": {
      "text/html": [
       "<div>\n",
       "<style scoped>\n",
       "    .dataframe tbody tr th:only-of-type {\n",
       "        vertical-align: middle;\n",
       "    }\n",
       "\n",
       "    .dataframe tbody tr th {\n",
       "        vertical-align: top;\n",
       "    }\n",
       "\n",
       "    .dataframe thead th {\n",
       "        text-align: right;\n",
       "    }\n",
       "</style>\n",
       "<table border=\"1\" class=\"dataframe\">\n",
       "  <thead>\n",
       "    <tr style=\"text-align: right;\">\n",
       "      <th></th>\n",
       "      <th>URL</th>\n",
       "      <th>MovieID</th>\n",
       "    </tr>\n",
       "  </thead>\n",
       "  <tbody>\n",
       "    <tr>\n",
       "      <td>0</td>\n",
       "      <td>https://www.rottentomatoes.com/m/the_hustle_2019/</td>\n",
       "      <td>b71aaf1e-eaf4-3c45-a9fb-369a0f916108</td>\n",
       "    </tr>\n",
       "    <tr>\n",
       "      <td>1</td>\n",
       "      <td>https://www.rottentomatoes.com/m/the_kitchen/</td>\n",
       "      <td>83e3861c-8a25-3f03-ab9a-1e8f0994775e</td>\n",
       "    </tr>\n",
       "    <tr>\n",
       "      <td>2</td>\n",
       "      <td>https://www.rottentomatoes.com/m/men_in_black_...</td>\n",
       "      <td>e3d56bd8-a285-31dd-8306-fd8e331d05b7</td>\n",
       "    </tr>\n",
       "    <tr>\n",
       "      <td>3</td>\n",
       "      <td>https://www.rottentomatoes.com/m/dark_phoenix/</td>\n",
       "      <td>1e586d32-284c-356d-ba6f-e5184693d838</td>\n",
       "    </tr>\n",
       "    <tr>\n",
       "      <td>4</td>\n",
       "      <td>https://www.rottentomatoes.com/m/uglydolls/</td>\n",
       "      <td>296a363c-5b4e-30c1-a290-6c13a2062429</td>\n",
       "    </tr>\n",
       "  </tbody>\n",
       "</table>\n",
       "</div>"
      ],
      "text/plain": [
       "                                                 URL  \\\n",
       "0  https://www.rottentomatoes.com/m/the_hustle_2019/   \n",
       "1      https://www.rottentomatoes.com/m/the_kitchen/   \n",
       "2  https://www.rottentomatoes.com/m/men_in_black_...   \n",
       "3     https://www.rottentomatoes.com/m/dark_phoenix/   \n",
       "4        https://www.rottentomatoes.com/m/uglydolls/   \n",
       "\n",
       "                                MovieID  \n",
       "0  b71aaf1e-eaf4-3c45-a9fb-369a0f916108  \n",
       "1  83e3861c-8a25-3f03-ab9a-1e8f0994775e  \n",
       "2  e3d56bd8-a285-31dd-8306-fd8e331d05b7  \n",
       "3  1e586d32-284c-356d-ba6f-e5184693d838  \n",
       "4  296a363c-5b4e-30c1-a290-6c13a2062429  "
      ]
     },
     "execution_count": 17,
     "metadata": {},
     "output_type": "execute_result"
    }
   ],
   "source": [
    "# load the saved csv file\n",
    "df_movieids = pd.read_csv('movieids.csv')\n",
    "df_movieids.drop('Unnamed: 0', axis=1, inplace=True) \n",
    "df_movieids.head()"
   ]
  },
  {
   "cell_type": "code",
   "execution_count": 18,
   "metadata": {},
   "outputs": [
    {
     "data": {
      "text/plain": [
       "[('https://www.rottentomatoes.com/m/the_hustle_2019/',\n",
       "  'b71aaf1e-eaf4-3c45-a9fb-369a0f916108'),\n",
       " ('https://www.rottentomatoes.com/m/the_kitchen/',\n",
       "  '83e3861c-8a25-3f03-ab9a-1e8f0994775e'),\n",
       " ('https://www.rottentomatoes.com/m/men_in_black_international/',\n",
       "  'e3d56bd8-a285-31dd-8306-fd8e331d05b7')]"
      ]
     },
     "execution_count": 18,
     "metadata": {},
     "output_type": "execute_result"
    }
   ],
   "source": [
    "#re-create the movieID_list tuple from the dataframe\n",
    "movie_urls = list(df_movieids.URL)\n",
    "movie_ids = list(df_movieids.MovieID)\n",
    "\n",
    "movieID_list = list(zip(movie_urls,movie_ids))\n",
    "movieID_list[:3]"
   ]
  },
  {
   "cell_type": "code",
   "execution_count": 19,
   "metadata": {},
   "outputs": [],
   "source": [
    "#create an emtry array to save audiance movie reviews\n",
    "all_movie_reviews = []"
   ]
  },
  {
   "cell_type": "code",
   "execution_count": 21,
   "metadata": {},
   "outputs": [
    {
     "name": "stdout",
     "output_type": "stream",
     "text": [
      "Getting movie index 0 https://www.rottentomatoes.com/m/the_hustle_2019/\n",
      "Getting movie index 1 https://www.rottentomatoes.com/m/the_kitchen/\n",
      "Getting movie index 2 https://www.rottentomatoes.com/m/men_in_black_international/\n",
      "Getting movie index 3 https://www.rottentomatoes.com/m/dark_phoenix/\n",
      "Getting movie index 4 https://www.rottentomatoes.com/m/uglydolls/\n",
      "Getting movie index 5 https://www.rottentomatoes.com/m/the_intruder_2019/\n",
      "Getting movie index 6 https://www.rottentomatoes.com/m/anna_2019/\n",
      "Getting movie index 7 https://www.rottentomatoes.com/m/shaft_2019/\n",
      "Getting movie index 8 https://www.rottentomatoes.com/m/poms/\n",
      "Getting movie index 9 https://www.rottentomatoes.com/m/el_chicano/\n",
      "Getting movie index 10 https://www.rottentomatoes.com/m/overcomer/\n",
      "Getting movie index 11 https://www.rottentomatoes.com/m/angel_has_fallen/\n",
      "Getting movie index 12 https://www.rottentomatoes.com/m/godzilla_king_of_the_monsters_2019/\n",
      "Getting movie index 13 https://www.rottentomatoes.com/m/stuber/\n",
      "Getting movie index 14 https://www.rottentomatoes.com/m/the_art_of_racing_in_the_rain/\n",
      "Getting movie index 15 https://www.rottentomatoes.com/m/whered_you_go_bernadette/\n",
      "Getting movie index 16 https://www.rottentomatoes.com/m/a_dogs_journey/\n",
      "Getting movie index 17 https://www.rottentomatoes.com/m/47_meters_down_uncaged/\n",
      "Getting movie index 18 https://www.rottentomatoes.com/m/the_sun_is_also_a_star/\n",
      "Getting movie index 19 https://www.rottentomatoes.com/m/tolkien/\n",
      "Getting movie index 20 https://www.rottentomatoes.com/m/the_lion_king_2019/\n",
      "Getting movie index 21 https://www.rottentomatoes.com/m/ma_2019/\n",
      "Getting movie index 22 https://www.rottentomatoes.com/m/the_dead_dont_die_2019/\n",
      "Getting movie index 23 https://www.rottentomatoes.com/m/brightburn/\n",
      "Getting movie index 24 https://www.rottentomatoes.com/m/aladdin/\n",
      "Getting movie index 25 https://www.rottentomatoes.com/m/brian_banks/\n",
      "Getting movie index 26 https://www.rottentomatoes.com/m/the_secret_life_of_pets_2/\n",
      "Getting movie index 27 https://www.rottentomatoes.com/m/yesterday_2019/\n",
      "Getting movie index 28 https://www.rottentomatoes.com/m/childs_play_2019/\n",
      "Getting movie index 29 https://www.rottentomatoes.com/m/the_white_crow/\n",
      "Getting movie index 30 https://www.rottentomatoes.com/m/annabelle_comes_home/\n",
      "Getting movie index 31 https://www.rottentomatoes.com/m/fast_and_furious_presents_hobbs_and_shaw/\n",
      "Getting movie index 32 https://www.rottentomatoes.com/m/pokemon_detective_pikachu/\n",
      "Getting movie index 33 https://www.rottentomatoes.com/m/all_is_true/\n",
      "Getting movie index 34 https://www.rottentomatoes.com/m/the_angry_birds_movie_2/\n",
      "Getting movie index 35 https://www.rottentomatoes.com/m/scary_stories_to_tell_in_the_dark/\n",
      "Getting movie index 36 https://www.rottentomatoes.com/m/good_boys_2019/\n",
      "Getting movie index 37 https://www.rottentomatoes.com/m/late_night_2019/\n",
      "Getting movie index 38 https://www.rottentomatoes.com/m/crawl_2019/\n",
      "Getting movie index 39 https://www.rottentomatoes.com/m/long_shot_2019/\n",
      "Getting movie index 40 https://www.rottentomatoes.com/m/dora_and_the_lost_city_of_gold/\n",
      "Getting movie index 41 https://www.rottentomatoes.com/m/midsommar/\n",
      "Getting movie index 42 https://www.rottentomatoes.com/m/the_nightingale_2019/\n",
      "Getting movie index 43 https://www.rottentomatoes.com/m/once_upon_a_time_in_hollywood/\n",
      "Getting movie index 44 https://www.rottentomatoes.com/m/ready_or_not_2019/\n",
      "Getting movie index 45 https://www.rottentomatoes.com/m/non_fiction/\n",
      "Getting movie index 46 https://www.rottentomatoes.com/m/blinded_by_the_light/\n",
      "Getting movie index 47 https://www.rottentomatoes.com/m/rocketman_2019/\n",
      "Getting movie index 48 https://www.rottentomatoes.com/m/john_wick_chapter_3_parabellum/\n",
      "Getting movie index 49 https://www.rottentomatoes.com/m/spider_man_far_from_home/\n",
      "Getting movie index 50 https://www.rottentomatoes.com/m/the_last_black_man_in_san_francisco/\n",
      "Getting movie index 51 https://www.rottentomatoes.com/m/wild_rose_2019/\n",
      "Getting movie index 52 https://www.rottentomatoes.com/m/avengers_endgame/\n",
      "Getting movie index 53 https://www.rottentomatoes.com/m/little_woods/\n",
      "Getting movie index 54 https://www.rottentomatoes.com/m/booksmart/\n",
      "Getting movie index 55 https://www.rottentomatoes.com/m/toy_story_4/\n",
      "Getting movie index 56 https://www.rottentomatoes.com/m/the_farewell_2019/\n",
      "Getting movie index 57 https://www.rottentomatoes.com/m/death_of_a_nation/\n",
      "Getting movie index 58 https://www.rottentomatoes.com/m/slender_man/\n",
      "Getting movie index 59 https://www.rottentomatoes.com/m/action_point/\n",
      "Getting movie index 60 https://www.rottentomatoes.com/m/show_dogs/\n",
      "Getting movie index 61 https://www.rottentomatoes.com/m/the_darkest_minds/\n",
      "Getting movie index 62 https://www.rottentomatoes.com/m/mile_22/\n",
      "Getting movie index 63 https://www.rottentomatoes.com/m/the_happytime_murders_2017/\n",
      "Getting movie index 64 https://www.rottentomatoes.com/m/axl/\n",
      "Getting movie index 65 https://www.rottentomatoes.com/m/overboard_2018/\n",
      "Getting movie index 66 https://www.rottentomatoes.com/m/breaking_in_2018/\n",
      "Getting movie index 67 https://www.rottentomatoes.com/m/kin_2018/\n",
      "Getting movie index 68 https://www.rottentomatoes.com/m/life_of_the_party_2018/\n",
      "Getting movie index 69 https://www.rottentomatoes.com/m/the_meg/\n",
      "Getting movie index 70 https://www.rottentomatoes.com/m/skyscraper_2018/\n",
      "Getting movie index 71 https://www.rottentomatoes.com/m/the_spy_who_dumped_me_2018/\n",
      "Getting movie index 72 https://www.rottentomatoes.com/m/jurassic_world_fallen_kingdom/\n",
      "Getting movie index 73 https://www.rottentomatoes.com/m/equalizer_2/\n",
      "Getting movie index 74 https://www.rottentomatoes.com/m/superfly_2018/\n",
      "Getting movie index 75 https://www.rottentomatoes.com/m/book_club/\n",
      "Getting movie index 76 https://www.rottentomatoes.com/m/bad_samaritan/\n",
      "Getting movie index 77 https://www.rottentomatoes.com/m/papillon_2018/\n",
      "Getting movie index 78 https://www.rottentomatoes.com/m/the_first_purge/\n",
      "Getting movie index 79 https://www.rottentomatoes.com/m/tag_2018/\n",
      "Getting movie index 80 https://www.rottentomatoes.com/m/unfriended_dark_web/\n",
      "Getting movie index 81 https://www.rottentomatoes.com/m/hotel_transylvania_3_summer_vacation/\n",
      "Getting movie index 82 https://www.rottentomatoes.com/m/hotel_artemis/\n",
      "Getting movie index 83 https://www.rottentomatoes.com/m/dog_days_2018/\n",
      "Getting movie index 84 https://www.rottentomatoes.com/m/the_little_stranger_2018/\n",
      "Getting movie index 85 https://www.rottentomatoes.com/m/operation_finale/\n",
      "Getting movie index 86 https://www.rottentomatoes.com/m/uncle_drew/\n",
      "Getting movie index 87 https://www.rottentomatoes.com/m/sicario_day_of_the_soldado/\n",
      "Getting movie index 88 https://www.rottentomatoes.com/m/on_chesil_beach/\n",
      "Getting movie index 89 https://www.rottentomatoes.com/m/oceans_8/\n",
      "Getting movie index 90 https://www.rottentomatoes.com/m/the_seagull_2018/\n",
      "Getting movie index 91 https://www.rottentomatoes.com/m/christopher_robin/\n",
      "Getting movie index 92 https://www.rottentomatoes.com/m/solo_a_star_wars_story/\n",
      "Getting movie index 93 https://www.rottentomatoes.com/m/adrift_2018/\n",
      "Getting movie index 94 https://www.rottentomatoes.com/m/dont_worry_he_wont_get_far_on_foot/\n",
      "Getting movie index 95 https://www.rottentomatoes.com/m/mamma_mia_here_we_go_again/\n",
      "Getting movie index 96 https://www.rottentomatoes.com/m/alpha_2018/\n",
      "Getting movie index 97 https://www.rottentomatoes.com/m/puzzle_2018/\n",
      "Getting movie index 98 https://www.rottentomatoes.com/m/deadpool_2/\n",
      "Getting movie index 99 https://www.rottentomatoes.com/m/avengers_infinity_war/\n",
      "Getting movie index 100 https://www.rottentomatoes.com/m/the_miseducation_of_cameron_post_2018/\n",
      "Getting movie index 101 https://www.rottentomatoes.com/m/disobedience_2017/\n",
      "Getting movie index 102 https://www.rottentomatoes.com/m/let_the_sunshine_in/\n",
      "Getting movie index 103 https://www.rottentomatoes.com/m/american_animals/\n",
      "Getting movie index 104 https://www.rottentomatoes.com/m/whitney_2018/\n",
      "Getting movie index 105 https://www.rottentomatoes.com/m/upgrade_2018/\n",
      "Getting movie index 106 https://www.rottentomatoes.com/m/tully_2018/\n",
      "Getting movie index 107 https://www.rottentomatoes.com/m/ant_man_and_the_wasp/\n",
      "Getting movie index 108 https://www.rottentomatoes.com/m/hereditary/\n",
      "Getting movie index 109 https://www.rottentomatoes.com/m/teen_titans_go_to_the_movies/\n",
      "Getting movie index 110 https://www.rottentomatoes.com/m/hearts_beat_loud/\n",
      "Getting movie index 111 https://www.rottentomatoes.com/m/searching_2018/\n",
      "Getting movie index 112 https://www.rottentomatoes.com/m/first_reformed/\n",
      "Getting movie index 113 https://www.rottentomatoes.com/m/revenge_2018/\n",
      "Getting movie index 114 https://www.rottentomatoes.com/m/blindspotting/\n",
      "Getting movie index 115 https://www.rottentomatoes.com/m/crazy_rich_asians/\n",
      "Getting movie index 116 https://www.rottentomatoes.com/m/incredibles_2/\n",
      "Getting movie index 117 https://www.rottentomatoes.com/m/rbg/\n",
      "Getting movie index 118 https://www.rottentomatoes.com/m/sorry_to_bother_you_2018/\n",
      "Getting movie index 119 https://www.rottentomatoes.com/m/beast/\n",
      "Getting movie index 120 https://www.rottentomatoes.com/m/blackkklansman/\n",
      "Getting movie index 121 https://www.rottentomatoes.com/m/three_identical_strangers/\n",
      "Getting movie index 122 https://www.rottentomatoes.com/m/mission_impossible_fallout/\n",
      "Getting movie index 123 https://www.rottentomatoes.com/m/wont_you_be_my_neighbor/\n",
      "Getting movie index 124 https://www.rottentomatoes.com/m/mcqueen/\n",
      "Getting movie index 125 https://www.rottentomatoes.com/m/leave_no_trace/\n",
      "Getting movie index 126 https://www.rottentomatoes.com/m/the_emoji_movie/\n",
      "Getting movie index 127 https://www.rottentomatoes.com/m/the_nut_job_2_nutty_by_nature/\n",
      "Getting movie index 128 https://www.rottentomatoes.com/m/transformers_the_last_knight_2017/\n",
      "Getting movie index 129 https://www.rottentomatoes.com/m/all_eyez_on_me_2017/\n",
      "Getting movie index 130 https://www.rottentomatoes.com/m/the_dark_tower_2017/\n",
      "Getting movie index 131 https://www.rottentomatoes.com/m/the_mummy_2017/\n",
      "Getting movie index 132 https://www.rottentomatoes.com/m/the_house_2017/\n",
      "Getting movie index 133 https://www.rottentomatoes.com/m/wish_upon/\n",
      "Getting movie index 134 https://www.rottentomatoes.com/m/baywatch_2017/\n",
      "Getting movie index 135 https://www.rottentomatoes.com/m/diary_of_a_wimpy_kid_the_long_haul/\n",
      "Getting movie index 136 https://www.rottentomatoes.com/m/birth_of_the_dragon/\n",
      "Getting movie index 137 https://www.rottentomatoes.com/m/the_book_of_henry/\n",
      "Getting movie index 138 https://www.rottentomatoes.com/m/king_arthur_legend_of_the_sword/\n",
      "Getting movie index 139 https://www.rottentomatoes.com/m/pirates_of_the_caribbean_dead_men_tell_no_tales/\n",
      "Getting movie index 140 https://www.rottentomatoes.com/m/snatched_2017/\n",
      "Getting movie index 141 https://www.rottentomatoes.com/m/kidnap_2017/\n"
     ]
    }
   ],
   "source": [
    "# We have total of 142 movie urls. we will limit the reviews from a single movie to a max of 2500 \n",
    "# This should give a dataset closer to 150K reivews (some movies have less than 1000 reviews)\n",
    "movie_index=0 \n",
    "#loop through all movies  \n",
    "for movie_url, movie_id in movieID_list:\n",
    "    print('Getting movie index', movie_index, movie_url)\n",
    "    movie_index= movie_index +1\n",
    "    headers = {\n",
    "    'Referer': movie_url +'reviews?type=user',\n",
    "    'User-Agent': 'Mozilla/5.0 (Windows NT 10.0; Win64; x64) AppleWebKit/537.36 (KHTML, like Gecko) Chrome/74.0.3729.108 Safari/537.36',\n",
    "    'X-Requested-With': 'XMLHttpRequest',}\n",
    "    \n",
    "    url = 'https://www.rottentomatoes.com/napi/movie/'+movie_id+'/reviews/user'\n",
    "    \n",
    "    payload = {\n",
    "    'direction': 'next',\n",
    "    'endCursor': '',\n",
    "    'startCursor': '',}\n",
    "\n",
    "    sess = requests.Session()\n",
    "    \n",
    "    count = 0 \n",
    "    MAX_PER_MOVIE = 2500\n",
    "    \n",
    "    while True:\n",
    "        if count >= MAX_PER_MOVIE :\n",
    "            break;\n",
    "        try :\n",
    "            r = sess.get(url, headers=headers, params=payload)\n",
    "            data = r.json()\n",
    "\n",
    "            # if there is no next page then we have reached the end\n",
    "            if not data['pageInfo']['hasNextPage']:\n",
    "                break\n",
    "        \n",
    "            payload['endCursor'] = data['pageInfo']['endCursor']\n",
    "            payload['startCursor'] = data['pageInfo']['startCursor']\n",
    "\n",
    "            for x in data['reviews']:\n",
    "                # user = x['user']['displayName'] # get the name of the reviwer\n",
    "                review = x['review'] # get the audience review \n",
    "                star = x['rating'] # get the star rating (out of 5)\n",
    "                all_movie_reviews.append((review, star)) # append review and start rating to the reviews list as tuple\n",
    "                count = count+1 # increase count , the loop will terminate once it hit max\n",
    "        except Exception as err:\n",
    "            print(err) "
   ]
  },
  {
   "cell_type": "code",
   "execution_count": 22,
   "metadata": {},
   "outputs": [],
   "source": [
    "#create a dataframe using the reviews collected\n",
    "rotten_reviews = pd.DataFrame(all_movie_reviews, columns=['Reviews', 'StarRating'])"
   ]
  },
  {
   "cell_type": "code",
   "execution_count": 16,
   "metadata": {},
   "outputs": [],
   "source": [
    "#save the file to the directory\n",
    "rotten_reviews.to_csv('rottenReview_backup_xl.csv', index=False)"
   ]
  }
 ],
 "metadata": {
  "kernelspec": {
   "display_name": "Python 3",
   "language": "python",
   "name": "python3"
  },
  "language_info": {
   "codemirror_mode": {
    "name": "ipython",
    "version": 3
   },
   "file_extension": ".py",
   "mimetype": "text/x-python",
   "name": "python",
   "nbconvert_exporter": "python",
   "pygments_lexer": "ipython3",
   "version": "3.7.4"
  }
 },
 "nbformat": 4,
 "nbformat_minor": 4
}
